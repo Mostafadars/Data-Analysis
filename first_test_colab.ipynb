{
  "nbformat": 4,
  "nbformat_minor": 0,
  "metadata": {
    "colab": {
      "provenance": [],
      "authorship_tag": "ABX9TyNIYpE665Ee1rCYdkFSuzbm",
      "include_colab_link": true
    },
    "kernelspec": {
      "name": "python3",
      "display_name": "Python 3"
    },
    "language_info": {
      "name": "python"
    }
  },
  "cells": [
    {
      "cell_type": "markdown",
      "metadata": {
        "id": "view-in-github",
        "colab_type": "text"
      },
      "source": [
        "<a href=\"https://colab.research.google.com/github/Mostafadars/Data-Analysis/blob/main/first_test_colab.ipynb\" target=\"_parent\"><img src=\"https://colab.research.google.com/assets/colab-badge.svg\" alt=\"Open In Colab\"/></a>"
      ]
    },
    {
      "cell_type": "code",
      "execution_count": 2,
      "metadata": {
        "colab": {
          "base_uri": "https://localhost:8080/"
        },
        "id": "FEAtJvNrgqKf",
        "outputId": "ed2a233a-e7ab-4268-b60d-b3373c1eb34c"
      },
      "outputs": [
        {
          "output_type": "stream",
          "name": "stdout",
          "text": [
            "Hello From Google Colab\n"
          ]
        }
      ],
      "source": [
        "print(\"Hello From Google Colab\")"
      ]
    },
    {
      "cell_type": "code",
      "source": [
        "print(\"Hello Python From Colab\")"
      ],
      "metadata": {
        "id": "4zELxRiLiS8Z"
      },
      "execution_count": null,
      "outputs": []
    }
  ]
}